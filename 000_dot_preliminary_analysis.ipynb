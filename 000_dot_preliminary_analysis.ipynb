{
 "cells": [
  {
   "cell_type": "markdown",
   "id": "540bf604-5c01-4fe7-a7d1-ef78a07fb46c",
   "metadata": {},
   "source": [
    "# Imports"
   ]
  },
  {
   "cell_type": "code",
   "execution_count": 25,
   "id": "b7c8b9c2-b53f-4159-8447-d7a22bc66592",
   "metadata": {},
   "outputs": [],
   "source": [
    "import matplotlib.pyplot as plt\n",
    "import os\n",
    "import numpy as np\n",
    "import pandas as pd\n",
    "\n",
    "from os.path import expanduser"
   ]
  },
  {
   "cell_type": "markdown",
   "id": "b5e8ad54-9cbb-4376-85df-5aa692a24226",
   "metadata": {},
   "source": [
    "# Load data"
   ]
  },
  {
   "cell_type": "code",
   "execution_count": 5,
   "id": "0dc987b1-b2f7-4243-815a-28097b2a1171",
   "metadata": {},
   "outputs": [],
   "source": [
    "df = pd.read_csv(expanduser(\"~/database/aita/dot/dot_2016_2019.csv\"), sep=\"\\t\")"
   ]
  },
  {
   "cell_type": "markdown",
   "id": "57131318-6d48-4c2b-ba68-305e3bf670fe",
   "metadata": {},
   "source": [
    "# Analysis"
   ]
  },
  {
   "cell_type": "code",
   "execution_count": 6,
   "id": "dd28636b-d91a-4bd0-b1e8-b60437e7cf9a",
   "metadata": {},
   "outputs": [
    {
     "data": {
      "text/html": [
       "<div>\n",
       "<style scoped>\n",
       "    .dataframe tbody tr th:only-of-type {\n",
       "        vertical-align: middle;\n",
       "    }\n",
       "\n",
       "    .dataframe tbody tr th {\n",
       "        vertical-align: top;\n",
       "    }\n",
       "\n",
       "    .dataframe thead th {\n",
       "        text-align: right;\n",
       "    }\n",
       "</style>\n",
       "<table border=\"1\" class=\"dataframe\">\n",
       "  <thead>\n",
       "    <tr style=\"text-align: right;\">\n",
       "      <th></th>\n",
       "      <th>origin</th>\n",
       "      <th>destination</th>\n",
       "      <th>year</th>\n",
       "      <th>month</th>\n",
       "      <th>passengers</th>\n",
       "      <th>seats</th>\n",
       "    </tr>\n",
       "  </thead>\n",
       "  <tbody>\n",
       "    <tr>\n",
       "      <th>0</th>\n",
       "      <td>HNL</td>\n",
       "      <td>PPG</td>\n",
       "      <td>2016</td>\n",
       "      <td>2</td>\n",
       "      <td>0</td>\n",
       "      <td>0</td>\n",
       "    </tr>\n",
       "    <tr>\n",
       "      <th>1</th>\n",
       "      <td>PPG</td>\n",
       "      <td>HNL</td>\n",
       "      <td>2016</td>\n",
       "      <td>2</td>\n",
       "      <td>0</td>\n",
       "      <td>0</td>\n",
       "    </tr>\n",
       "    <tr>\n",
       "      <th>2</th>\n",
       "      <td>MYR</td>\n",
       "      <td>NEW</td>\n",
       "      <td>2016</td>\n",
       "      <td>2</td>\n",
       "      <td>0</td>\n",
       "      <td>0</td>\n",
       "    </tr>\n",
       "    <tr>\n",
       "      <th>3</th>\n",
       "      <td>ANC</td>\n",
       "      <td>FAI</td>\n",
       "      <td>2016</td>\n",
       "      <td>2</td>\n",
       "      <td>1</td>\n",
       "      <td>4</td>\n",
       "    </tr>\n",
       "    <tr>\n",
       "      <th>4</th>\n",
       "      <td>ANC</td>\n",
       "      <td>TKJ</td>\n",
       "      <td>2016</td>\n",
       "      <td>2</td>\n",
       "      <td>3</td>\n",
       "      <td>8</td>\n",
       "    </tr>\n",
       "  </tbody>\n",
       "</table>\n",
       "</div>"
      ],
      "text/plain": [
       "  origin destination  year  month  passengers  seats\n",
       "0    HNL         PPG  2016      2           0      0\n",
       "1    PPG         HNL  2016      2           0      0\n",
       "2    MYR         NEW  2016      2           0      0\n",
       "3    ANC         FAI  2016      2           1      4\n",
       "4    ANC         TKJ  2016      2           3      8"
      ]
     },
     "execution_count": 6,
     "metadata": {},
     "output_type": "execute_result"
    }
   ],
   "source": [
    "df.head()"
   ]
  },
  {
   "cell_type": "markdown",
   "id": "f6fe583c-6496-4588-b960-88d84873b9f5",
   "metadata": {},
   "source": [
    "# Combine markets into unordered markets"
   ]
  },
  {
   "cell_type": "code",
   "execution_count": 7,
   "id": "8699c89d-59af-48a0-a49c-727c3e8d7cf2",
   "metadata": {},
   "outputs": [],
   "source": [
    "df['market'] = df.apply(lambda row: '_'.join(sorted([row['origin'], row['destination']])), axis=1)\n",
    "df_unordered = df.groupby(['market', 'year', 'month'], as_index=False).agg({'passengers': 'sum', 'seats': 'sum'})"
   ]
  },
  {
   "cell_type": "code",
   "execution_count": 8,
   "id": "57ca4c53-993f-4597-80fb-8cc387eea81e",
   "metadata": {},
   "outputs": [
    {
     "data": {
      "text/html": [
       "<div>\n",
       "<style scoped>\n",
       "    .dataframe tbody tr th:only-of-type {\n",
       "        vertical-align: middle;\n",
       "    }\n",
       "\n",
       "    .dataframe tbody tr th {\n",
       "        vertical-align: top;\n",
       "    }\n",
       "\n",
       "    .dataframe thead th {\n",
       "        text-align: right;\n",
       "    }\n",
       "</style>\n",
       "<table border=\"1\" class=\"dataframe\">\n",
       "  <thead>\n",
       "    <tr style=\"text-align: right;\">\n",
       "      <th></th>\n",
       "      <th>market</th>\n",
       "      <th>year</th>\n",
       "      <th>month</th>\n",
       "      <th>passengers</th>\n",
       "      <th>seats</th>\n",
       "    </tr>\n",
       "  </thead>\n",
       "  <tbody>\n",
       "    <tr>\n",
       "      <th>0</th>\n",
       "      <td>05A_AET</td>\n",
       "      <td>2019</td>\n",
       "      <td>7</td>\n",
       "      <td>0</td>\n",
       "      <td>9</td>\n",
       "    </tr>\n",
       "    <tr>\n",
       "      <th>1</th>\n",
       "      <td>05A_AKP</td>\n",
       "      <td>2018</td>\n",
       "      <td>2</td>\n",
       "      <td>0</td>\n",
       "      <td>9</td>\n",
       "    </tr>\n",
       "    <tr>\n",
       "      <th>2</th>\n",
       "      <td>05A_AKP</td>\n",
       "      <td>2019</td>\n",
       "      <td>3</td>\n",
       "      <td>0</td>\n",
       "      <td>9</td>\n",
       "    </tr>\n",
       "    <tr>\n",
       "      <th>3</th>\n",
       "      <td>05A_AKP</td>\n",
       "      <td>2019</td>\n",
       "      <td>7</td>\n",
       "      <td>1</td>\n",
       "      <td>9</td>\n",
       "    </tr>\n",
       "    <tr>\n",
       "      <th>4</th>\n",
       "      <td>05A_ANC</td>\n",
       "      <td>2016</td>\n",
       "      <td>6</td>\n",
       "      <td>1</td>\n",
       "      <td>9</td>\n",
       "    </tr>\n",
       "  </tbody>\n",
       "</table>\n",
       "</div>"
      ],
      "text/plain": [
       "    market  year  month  passengers  seats\n",
       "0  05A_AET  2019      7           0      9\n",
       "1  05A_AKP  2018      2           0      9\n",
       "2  05A_AKP  2019      3           0      9\n",
       "3  05A_AKP  2019      7           1      9\n",
       "4  05A_ANC  2016      6           1      9"
      ]
     },
     "execution_count": 8,
     "metadata": {},
     "output_type": "execute_result"
    }
   ],
   "source": [
    "df_unordered.head()"
   ]
  },
  {
   "cell_type": "markdown",
   "id": "c621f698-55ed-43b9-986b-f6558176e054",
   "metadata": {},
   "source": [
    "## Total amount of markets"
   ]
  },
  {
   "cell_type": "code",
   "execution_count": 10,
   "id": "ce6aaac2-c76a-40cc-b0a4-fd0e3fbaef61",
   "metadata": {},
   "outputs": [
    {
     "data": {
      "text/plain": [
       "market    31659\n",
       "dtype: int64"
      ]
     },
     "execution_count": 10,
     "metadata": {},
     "output_type": "execute_result"
    }
   ],
   "source": [
    "df_unordered[[\"market\"]].nunique()"
   ]
  },
  {
   "cell_type": "code",
   "execution_count": 45,
   "id": "516c5b0c-a4f2-46b7-822a-e6311b0034fa",
   "metadata": {},
   "outputs": [],
   "source": [
    "# Add a column to indicate months with non-zero passengers\n",
    "df_unordered['non_zero_passengers'] = df_unordered['passengers'] > 0\n",
    "\n",
    "# Count the number of months with non-zero passengers for each market\n",
    "market_month_counts = df_unordered.groupby('market')['non_zero_passengers'].sum()\n",
    "\n",
    "# Filter markets with exactly 48 months of non-zero passengers\n",
    "cool_markets = market_month_counts[market_month_counts == 48].index.tolist()"
   ]
  },
  {
   "cell_type": "code",
   "execution_count": 46,
   "id": "fa259b47-bea5-4799-b1ff-77d0c31c6a4e",
   "metadata": {},
   "outputs": [
    {
     "data": {
      "text/plain": [
       "2595"
      ]
     },
     "execution_count": 46,
     "metadata": {},
     "output_type": "execute_result"
    }
   ],
   "source": [
    "len(cool_markets)"
   ]
  },
  {
   "cell_type": "markdown",
   "id": "c5cb23e7-d227-4a1e-a36c-616b8bb23e2f",
   "metadata": {},
   "source": [
    "* markets which have amount of passengers greater then zero for each month are cool markets"
   ]
  },
  {
   "cell_type": "code",
   "execution_count": 47,
   "id": "6b7a81bf-a862-4751-b8fe-a458c2cd4867",
   "metadata": {},
   "outputs": [],
   "source": [
    "df_cool = df_unordered[df_unordered['market'].isin(cool_markets)]"
   ]
  },
  {
   "cell_type": "code",
   "execution_count": 48,
   "id": "1adc072d-81ab-45d0-a8b1-5768144c47e4",
   "metadata": {},
   "outputs": [
    {
     "data": {
      "text/plain": [
       "(124560, 6)"
      ]
     },
     "execution_count": 48,
     "metadata": {},
     "output_type": "execute_result"
    }
   ],
   "source": [
    "df_cool.shape"
   ]
  },
  {
   "cell_type": "code",
   "execution_count": 49,
   "id": "2423f7b7-ad59-446a-81c4-099495d9c849",
   "metadata": {},
   "outputs": [
    {
     "data": {
      "text/html": [
       "<div>\n",
       "<style scoped>\n",
       "    .dataframe tbody tr th:only-of-type {\n",
       "        vertical-align: middle;\n",
       "    }\n",
       "\n",
       "    .dataframe tbody tr th {\n",
       "        vertical-align: top;\n",
       "    }\n",
       "\n",
       "    .dataframe thead th {\n",
       "        text-align: right;\n",
       "    }\n",
       "</style>\n",
       "<table border=\"1\" class=\"dataframe\">\n",
       "  <thead>\n",
       "    <tr style=\"text-align: right;\">\n",
       "      <th></th>\n",
       "      <th>market</th>\n",
       "      <th>year</th>\n",
       "      <th>month</th>\n",
       "      <th>passengers</th>\n",
       "      <th>seats</th>\n",
       "      <th>non_zero_passengers</th>\n",
       "    </tr>\n",
       "  </thead>\n",
       "  <tbody>\n",
       "    <tr>\n",
       "      <th>118</th>\n",
       "      <td>1G4_1G4</td>\n",
       "      <td>2016</td>\n",
       "      <td>1</td>\n",
       "      <td>516</td>\n",
       "      <td>781</td>\n",
       "      <td>True</td>\n",
       "    </tr>\n",
       "    <tr>\n",
       "      <th>119</th>\n",
       "      <td>1G4_1G4</td>\n",
       "      <td>2016</td>\n",
       "      <td>2</td>\n",
       "      <td>1245</td>\n",
       "      <td>1591</td>\n",
       "      <td>True</td>\n",
       "    </tr>\n",
       "    <tr>\n",
       "      <th>120</th>\n",
       "      <td>1G4_1G4</td>\n",
       "      <td>2016</td>\n",
       "      <td>3</td>\n",
       "      <td>1095</td>\n",
       "      <td>1549</td>\n",
       "      <td>True</td>\n",
       "    </tr>\n",
       "    <tr>\n",
       "      <th>121</th>\n",
       "      <td>1G4_1G4</td>\n",
       "      <td>2016</td>\n",
       "      <td>4</td>\n",
       "      <td>751</td>\n",
       "      <td>1285</td>\n",
       "      <td>True</td>\n",
       "    </tr>\n",
       "    <tr>\n",
       "      <th>122</th>\n",
       "      <td>1G4_1G4</td>\n",
       "      <td>2016</td>\n",
       "      <td>5</td>\n",
       "      <td>959</td>\n",
       "      <td>2050</td>\n",
       "      <td>True</td>\n",
       "    </tr>\n",
       "  </tbody>\n",
       "</table>\n",
       "</div>"
      ],
      "text/plain": [
       "      market  year  month  passengers  seats  non_zero_passengers\n",
       "118  1G4_1G4  2016      1         516    781                 True\n",
       "119  1G4_1G4  2016      2        1245   1591                 True\n",
       "120  1G4_1G4  2016      3        1095   1549                 True\n",
       "121  1G4_1G4  2016      4         751   1285                 True\n",
       "122  1G4_1G4  2016      5         959   2050                 True"
      ]
     },
     "execution_count": 49,
     "metadata": {},
     "output_type": "execute_result"
    }
   ],
   "source": [
    "df_cool.head()"
   ]
  },
  {
   "cell_type": "markdown",
   "id": "c784363c-fcaf-42e4-aaca-0ff03e96c621",
   "metadata": {},
   "source": [
    "# Histogram of mean PPM (passengers per month)"
   ]
  },
  {
   "cell_type": "code",
   "execution_count": 50,
   "id": "cb2c7224-9f4b-4193-b9e4-30230f80b250",
   "metadata": {},
   "outputs": [
    {
     "data": {
      "image/png": "[encoded data removed]",
      "text/plain": [
       "<Figure size 640x480 with 1 Axes>"
      ]
     },
     "metadata": {},
     "output_type": "display_data"
    }
   ],
   "source": [
    "# Calculate average passengers per month (PPM) for each market\n",
    "df_mean = df_cool.groupby('market', as_index=False)['passengers'].mean()\n",
    "df_mean.rename(columns={'passengers': 'PPM'}, inplace=True)\n",
    "\n",
    "min_val = df_mean['PPM'].min()\n",
    "max_val = df_mean['PPM'].max()\n",
    "bins = np.logspace(np.log10(min_val), np.log10(max_val), num=20)\n",
    "\n",
    "# Plot histogram with logarithmic bins\n",
    "plt.hist(df_mean['PPM'], bins=bins, edgecolor='black', log=True)\n",
    "plt.xscale('log')\n",
    "plt.yscale('log')\n",
    "plt.xlabel('Average Passengers Per Month (PPM)')\n",
    "plt.ylabel('Frequency')\n",
    "plt.title('Histogram of Average PPM for Cool Markets (Log-Log Scale)')\n",
    "plt.show()"
   ]
  },
  {
   "cell_type": "markdown",
   "id": "4e45a328-cb42-438d-a04b-7e173bd771b0",
   "metadata": {},
   "source": [
    "* roughly set thresholds for PPM\n",
    "  * 0 - 1000 - small\n",
    "  * 1000 - 10000 - medium\n",
    "  * \\> 10000 - big"
   ]
  },
  {
   "cell_type": "markdown",
   "id": "2a711bbb-a1c6-41f3-b293-878a227bb6f6",
   "metadata": {},
   "source": [
    "# Check some small markets"
   ]
  },
  {
   "cell_type": "code",
   "execution_count": 51,
   "id": "00f4df6a-4cb5-4286-b48a-433954c01928",
   "metadata": {},
   "outputs": [],
   "source": [
    "df_small = df_mean[df_mean['PPM'] <= 1000]\n",
    "df_medium = df_mean[(df_mean['PPM'] > 1000) & (df_mean['PPM'] <= 10000)]\n",
    "df_big = df_mean[df_mean['PPM'] > 10000]"
   ]
  },
  {
   "cell_type": "code",
   "execution_count": 52,
   "id": "366dc54d-b235-4436-a712-ade211d33805",
   "metadata": {},
   "outputs": [],
   "source": [
    "df_whole_small = df_cool[df_cool['market'].isin(df_small['market'])]\n",
    "df_whole_medium = df_cool[df_cool['market'].isin(df_medium['market'])]\n",
    "df_whole_big = df_cool[df_cool['market'].isin(df_big['market'])]"
   ]
  },
  {
   "cell_type": "markdown",
   "id": "6063d80b-dafd-430c-8ee0-b92ab0a63275",
   "metadata": {},
   "source": [
    "# Small markets"
   ]
  },
  {
   "cell_type": "code",
   "execution_count": 53,
   "id": "d2e15033-6300-4dfc-8ae4-2d11375cac9d",
   "metadata": {},
   "outputs": [],
   "source": [
    "df_small = df_small.sort_values(by='PPM', ascending=True)\n",
    "df_medium = df_medium.sort_values(by='PPM', ascending=True)\n",
    "df_big = df_big.sort_values(by='PPM', ascending=True)"
   ]
  },
  {
   "cell_type": "code",
   "execution_count": 58,
   "id": "b8e255aa-7aeb-4fff-b3b2-79ff39e709ac",
   "metadata": {},
   "outputs": [
    {
     "data": {
      "text/plain": [
       "(328, 2)"
      ]
     },
     "execution_count": 58,
     "metadata": {},
     "output_type": "execute_result"
    }
   ],
   "source": [
    "df_small.shape"
   ]
  },
  {
   "cell_type": "code",
   "execution_count": 54,
   "id": "2c70b276-84da-4f83-a3c7-65964c285523",
   "metadata": {},
   "outputs": [
    {
     "data": {
      "text/html": [
       "<div>\n",
       "<style scoped>\n",
       "    .dataframe tbody tr th:only-of-type {\n",
       "        vertical-align: middle;\n",
       "    }\n",
       "\n",
       "    .dataframe tbody tr th {\n",
       "        vertical-align: top;\n",
       "    }\n",
       "\n",
       "    .dataframe thead th {\n",
       "        text-align: right;\n",
       "    }\n",
       "</style>\n",
       "<table border=\"1\" class=\"dataframe\">\n",
       "  <thead>\n",
       "    <tr style=\"text-align: right;\">\n",
       "      <th></th>\n",
       "      <th>market</th>\n",
       "      <th>PPM</th>\n",
       "    </tr>\n",
       "  </thead>\n",
       "  <tbody>\n",
       "    <tr>\n",
       "      <th>2581</th>\n",
       "      <td>SLQ_SRV</td>\n",
       "      <td>7.854167</td>\n",
       "    </tr>\n",
       "    <tr>\n",
       "      <th>404</th>\n",
       "      <td>BET_EHM</td>\n",
       "      <td>11.166667</td>\n",
       "    </tr>\n",
       "    <tr>\n",
       "      <th>71</th>\n",
       "      <td>AKN_IGG</td>\n",
       "      <td>12.104167</td>\n",
       "    </tr>\n",
       "    <tr>\n",
       "      <th>1820</th>\n",
       "      <td>ILI_PTA</td>\n",
       "      <td>12.395833</td>\n",
       "    </tr>\n",
       "    <tr>\n",
       "      <th>781</th>\n",
       "      <td>CHU_CKD</td>\n",
       "      <td>13.479167</td>\n",
       "    </tr>\n",
       "  </tbody>\n",
       "</table>\n",
       "</div>"
      ],
      "text/plain": [
       "       market        PPM\n",
       "2581  SLQ_SRV   7.854167\n",
       "404   BET_EHM  11.166667\n",
       "71    AKN_IGG  12.104167\n",
       "1820  ILI_PTA  12.395833\n",
       "781   CHU_CKD  13.479167"
      ]
     },
     "execution_count": 54,
     "metadata": {},
     "output_type": "execute_result"
    }
   ],
   "source": [
    "df_small.head()"
   ]
  },
  {
   "cell_type": "code",
   "execution_count": 59,
   "id": "82e18e1a-053e-44e0-bbd4-308072cbf95e",
   "metadata": {},
   "outputs": [
    {
     "data": {
      "text/html": [
       "<div>\n",
       "<style scoped>\n",
       "    .dataframe tbody tr th:only-of-type {\n",
       "        vertical-align: middle;\n",
       "    }\n",
       "\n",
       "    .dataframe tbody tr th {\n",
       "        vertical-align: top;\n",
       "    }\n",
       "\n",
       "    .dataframe thead th {\n",
       "        text-align: right;\n",
       "    }\n",
       "</style>\n",
       "<table border=\"1\" class=\"dataframe\">\n",
       "  <thead>\n",
       "    <tr style=\"text-align: right;\">\n",
       "      <th></th>\n",
       "      <th>market</th>\n",
       "      <th>PPM</th>\n",
       "    </tr>\n",
       "  </thead>\n",
       "  <tbody>\n",
       "    <tr>\n",
       "      <th>2113</th>\n",
       "      <td>LUK_MDW</td>\n",
       "      <td>933.687500</td>\n",
       "    </tr>\n",
       "    <tr>\n",
       "      <th>2011</th>\n",
       "      <td>LAX_MCE</td>\n",
       "      <td>955.270833</td>\n",
       "    </tr>\n",
       "    <tr>\n",
       "      <th>104</th>\n",
       "      <td>ANC_CDB</td>\n",
       "      <td>958.020833</td>\n",
       "    </tr>\n",
       "    <tr>\n",
       "      <th>92</th>\n",
       "      <td>ALS_DEN</td>\n",
       "      <td>964.937500</td>\n",
       "    </tr>\n",
       "    <tr>\n",
       "      <th>1501</th>\n",
       "      <td>FAI_SCC</td>\n",
       "      <td>974.041667</td>\n",
       "    </tr>\n",
       "  </tbody>\n",
       "</table>\n",
       "</div>"
      ],
      "text/plain": [
       "       market         PPM\n",
       "2113  LUK_MDW  933.687500\n",
       "2011  LAX_MCE  955.270833\n",
       "104   ANC_CDB  958.020833\n",
       "92    ALS_DEN  964.937500\n",
       "1501  FAI_SCC  974.041667"
      ]
     },
     "execution_count": 59,
     "metadata": {},
     "output_type": "execute_result"
    }
   ],
   "source": [
    "df_small.tail()"
   ]
  },
  {
   "cell_type": "code",
   "execution_count": 60,
   "id": "4d4de62f-80f4-4fd7-a885-eaebc7ddd516",
   "metadata": {},
   "outputs": [
    {
     "data": {
      "text/html": [
       "<div>\n",
       "<style scoped>\n",
       "    .dataframe tbody tr th:only-of-type {\n",
       "        vertical-align: middle;\n",
       "    }\n",
       "\n",
       "    .dataframe tbody tr th {\n",
       "        vertical-align: top;\n",
       "    }\n",
       "\n",
       "    .dataframe thead th {\n",
       "        text-align: right;\n",
       "    }\n",
       "</style>\n",
       "<table border=\"1\" class=\"dataframe\">\n",
       "  <thead>\n",
       "    <tr style=\"text-align: right;\">\n",
       "      <th></th>\n",
       "      <th>market</th>\n",
       "      <th>PPM</th>\n",
       "    </tr>\n",
       "  </thead>\n",
       "  <tbody>\n",
       "    <tr>\n",
       "      <th>408</th>\n",
       "      <td>BET_KKH</td>\n",
       "      <td>461.916667</td>\n",
       "    </tr>\n",
       "    <tr>\n",
       "      <th>625</th>\n",
       "      <td>BRL_STL</td>\n",
       "      <td>464.937500</td>\n",
       "    </tr>\n",
       "    <tr>\n",
       "      <th>1580</th>\n",
       "      <td>GAM_OME</td>\n",
       "      <td>467.145833</td>\n",
       "    </tr>\n",
       "    <tr>\n",
       "      <th>1426</th>\n",
       "      <td>ESD_FRD</td>\n",
       "      <td>468.312500</td>\n",
       "    </tr>\n",
       "    <tr>\n",
       "      <th>422</th>\n",
       "      <td>BET_NUP</td>\n",
       "      <td>473.250000</td>\n",
       "    </tr>\n",
       "  </tbody>\n",
       "</table>\n",
       "</div>"
      ],
      "text/plain": [
       "       market         PPM\n",
       "408   BET_KKH  461.916667\n",
       "625   BRL_STL  464.937500\n",
       "1580  GAM_OME  467.145833\n",
       "1426  ESD_FRD  468.312500\n",
       "422   BET_NUP  473.250000"
      ]
     },
     "execution_count": 60,
     "metadata": {},
     "output_type": "execute_result"
    }
   ],
   "source": [
    "df_small.tail(n=70).head()"
   ]
  },
  {
   "cell_type": "code",
   "execution_count": 61,
   "id": "95052210-76fd-4cfd-97d5-9c526527d938",
   "metadata": {},
   "outputs": [
    {
     "data": {
      "text/html": [
       "<div>\n",
       "<style scoped>\n",
       "    .dataframe tbody tr th:only-of-type {\n",
       "        vertical-align: middle;\n",
       "    }\n",
       "\n",
       "    .dataframe tbody tr th {\n",
       "        vertical-align: top;\n",
       "    }\n",
       "\n",
       "    .dataframe thead th {\n",
       "        text-align: right;\n",
       "    }\n",
       "</style>\n",
       "<table border=\"1\" class=\"dataframe\">\n",
       "  <thead>\n",
       "    <tr style=\"text-align: right;\">\n",
       "      <th></th>\n",
       "      <th>market</th>\n",
       "      <th>PPM</th>\n",
       "    </tr>\n",
       "  </thead>\n",
       "  <tbody>\n",
       "    <tr>\n",
       "      <th>1903</th>\n",
       "      <td>JNU_TKE</td>\n",
       "      <td>143.729167</td>\n",
       "    </tr>\n",
       "    <tr>\n",
       "      <th>132</th>\n",
       "      <td>ANI_BET</td>\n",
       "      <td>147.291667</td>\n",
       "    </tr>\n",
       "    <tr>\n",
       "      <th>1945</th>\n",
       "      <td>KUK_NUP</td>\n",
       "      <td>150.770833</td>\n",
       "    </tr>\n",
       "    <tr>\n",
       "      <th>1709</th>\n",
       "      <td>HSL_TAL</td>\n",
       "      <td>155.020833</td>\n",
       "    </tr>\n",
       "    <tr>\n",
       "      <th>1491</th>\n",
       "      <td>FAI_HUS</td>\n",
       "      <td>157.708333</td>\n",
       "    </tr>\n",
       "  </tbody>\n",
       "</table>\n",
       "</div>"
      ],
      "text/plain": [
       "       market         PPM\n",
       "1903  JNU_TKE  143.729167\n",
       "132   ANI_BET  147.291667\n",
       "1945  KUK_NUP  150.770833\n",
       "1709  HSL_TAL  155.020833\n",
       "1491  FAI_HUS  157.708333"
      ]
     },
     "execution_count": 61,
     "metadata": {},
     "output_type": "execute_result"
    }
   ],
   "source": [
    "df_small.tail(n=180).head()"
   ]
  },
  {
   "cell_type": "markdown",
   "id": "95644716-4f93-4247-bb2f-a0699fbb4dcc",
   "metadata": {},
   "source": [
    "* small markets to work with\n",
    "  * JNU_TKE\n",
    "  * GAM_OME\n",
    "  * ANC_CDB\t"
   ]
  },
  {
   "cell_type": "markdown",
   "id": "a2f9601b-d789-4e49-ac4f-a363f1d881bd",
   "metadata": {},
   "source": [
    "# Plot"
   ]
  },
  {
   "cell_type": "code",
   "execution_count": 64,
   "id": "fde92e13-f309-4be6-a61b-49ff6858d88c",
   "metadata": {},
   "outputs": [],
   "source": [
    "jnu_tke_data = df[df['market'] == 'JNU_TKE']"
   ]
  },
  {
   "cell_type": "code",
   "execution_count": 65,
   "id": "ddc0cdd0-ddf6-4500-a5a2-0d7841f7549c",
   "metadata": {},
   "outputs": [
    {
     "data": {
      "text/html": [
       "<div>\n",
       "<style scoped>\n",
       "    .dataframe tbody tr th:only-of-type {\n",
       "        vertical-align: middle;\n",
       "    }\n",
       "\n",
       "    .dataframe tbody tr th {\n",
       "        vertical-align: top;\n",
       "    }\n",
       "\n",
       "    .dataframe thead th {\n",
       "        text-align: right;\n",
       "    }\n",
       "</style>\n",
       "<table border=\"1\" class=\"dataframe\">\n",
       "  <thead>\n",
       "    <tr style=\"text-align: right;\">\n",
       "      <th></th>\n",
       "      <th>origin</th>\n",
       "      <th>destination</th>\n",
       "      <th>year</th>\n",
       "      <th>month</th>\n",
       "      <th>passengers</th>\n",
       "      <th>seats</th>\n",
       "      <th>market</th>\n",
       "    </tr>\n",
       "  </thead>\n",
       "  <tbody>\n",
       "    <tr>\n",
       "      <th>1872</th>\n",
       "      <td>JNU</td>\n",
       "      <td>TKE</td>\n",
       "      <td>2016</td>\n",
       "      <td>5</td>\n",
       "      <td>29</td>\n",
       "      <td>100</td>\n",
       "      <td>JNU_TKE</td>\n",
       "    </tr>\n",
       "    <tr>\n",
       "      <th>1873</th>\n",
       "      <td>JNU</td>\n",
       "      <td>TKE</td>\n",
       "      <td>2016</td>\n",
       "      <td>5</td>\n",
       "      <td>16</td>\n",
       "      <td>35</td>\n",
       "      <td>JNU_TKE</td>\n",
       "    </tr>\n",
       "    <tr>\n",
       "      <th>1911</th>\n",
       "      <td>TKE</td>\n",
       "      <td>JNU</td>\n",
       "      <td>2016</td>\n",
       "      <td>5</td>\n",
       "      <td>102</td>\n",
       "      <td>236</td>\n",
       "      <td>JNU_TKE</td>\n",
       "    </tr>\n",
       "    <tr>\n",
       "      <th>1912</th>\n",
       "      <td>TKE</td>\n",
       "      <td>JNU</td>\n",
       "      <td>2016</td>\n",
       "      <td>5</td>\n",
       "      <td>22</td>\n",
       "      <td>56</td>\n",
       "      <td>JNU_TKE</td>\n",
       "    </tr>\n",
       "    <tr>\n",
       "      <th>5323</th>\n",
       "      <td>JNU</td>\n",
       "      <td>TKE</td>\n",
       "      <td>2016</td>\n",
       "      <td>12</td>\n",
       "      <td>4</td>\n",
       "      <td>11</td>\n",
       "      <td>JNU_TKE</td>\n",
       "    </tr>\n",
       "    <tr>\n",
       "      <th>...</th>\n",
       "      <td>...</td>\n",
       "      <td>...</td>\n",
       "      <td>...</td>\n",
       "      <td>...</td>\n",
       "      <td>...</td>\n",
       "      <td>...</td>\n",
       "      <td>...</td>\n",
       "    </tr>\n",
       "    <tr>\n",
       "      <th>892211</th>\n",
       "      <td>TKE</td>\n",
       "      <td>JNU</td>\n",
       "      <td>2019</td>\n",
       "      <td>12</td>\n",
       "      <td>51</td>\n",
       "      <td>117</td>\n",
       "      <td>JNU_TKE</td>\n",
       "    </tr>\n",
       "    <tr>\n",
       "      <th>900042</th>\n",
       "      <td>JNU</td>\n",
       "      <td>TKE</td>\n",
       "      <td>2019</td>\n",
       "      <td>11</td>\n",
       "      <td>35</td>\n",
       "      <td>81</td>\n",
       "      <td>JNU_TKE</td>\n",
       "    </tr>\n",
       "    <tr>\n",
       "      <th>908746</th>\n",
       "      <td>TKE</td>\n",
       "      <td>JNU</td>\n",
       "      <td>2019</td>\n",
       "      <td>11</td>\n",
       "      <td>59</td>\n",
       "      <td>126</td>\n",
       "      <td>JNU_TKE</td>\n",
       "    </tr>\n",
       "    <tr>\n",
       "      <th>1059313</th>\n",
       "      <td>JNU</td>\n",
       "      <td>TKE</td>\n",
       "      <td>2016</td>\n",
       "      <td>6</td>\n",
       "      <td>55</td>\n",
       "      <td>142</td>\n",
       "      <td>JNU_TKE</td>\n",
       "    </tr>\n",
       "    <tr>\n",
       "      <th>1206602</th>\n",
       "      <td>TKE</td>\n",
       "      <td>JNU</td>\n",
       "      <td>2016</td>\n",
       "      <td>6</td>\n",
       "      <td>93</td>\n",
       "      <td>198</td>\n",
       "      <td>JNU_TKE</td>\n",
       "    </tr>\n",
       "  </tbody>\n",
       "</table>\n",
       "<p>306 rows × 7 columns</p>\n",
       "</div>"
      ],
      "text/plain": [
       "        origin destination  year  month  passengers  seats   market\n",
       "1872       JNU         TKE  2016      5          29    100  JNU_TKE\n",
       "1873       JNU         TKE  2016      5          16     35  JNU_TKE\n",
       "1911       TKE         JNU  2016      5         102    236  JNU_TKE\n",
       "1912       TKE         JNU  2016      5          22     56  JNU_TKE\n",
       "5323       JNU         TKE  2016     12           4     11  JNU_TKE\n",
       "...        ...         ...   ...    ...         ...    ...      ...\n",
       "892211     TKE         JNU  2019     12          51    117  JNU_TKE\n",
       "900042     JNU         TKE  2019     11          35     81  JNU_TKE\n",
       "908746     TKE         JNU  2019     11          59    126  JNU_TKE\n",
       "1059313    JNU         TKE  2016      6          55    142  JNU_TKE\n",
       "1206602    TKE         JNU  2016      6          93    198  JNU_TKE\n",
       "\n",
       "[306 rows x 7 columns]"
      ]
     },
     "execution_count": 65,
     "metadata": {},
     "output_type": "execute_result"
    }
   ],
   "source": [
    "jnu_tke_data"
   ]
  },
  {
   "cell_type": "code",
   "execution_count": 66,
   "id": "b31dfeb8-b4c8-45ee-beed-23eac7c71f90",
   "metadata": {},
   "outputs": [],
   "source": [
    "# Filter the data for the JNU_TKE market\n",
    "jnu_tke_data = df_unordered[df_unordered['market'] == 'JNU_TKE']\n",
    "\n",
    "# Group by year and month, summing passengers\n",
    "jnu_tke_monthly_passengers = jnu_tke_data.groupby(['year', 'month'])['passengers'].sum()"
   ]
  },
  {
   "cell_type": "code",
   "execution_count": 67,
   "id": "baec6cf7-4139-431b-a72d-e2786ca680da",
   "metadata": {},
   "outputs": [
    {
     "data": {
      "text/plain": [
       "year  month\n",
       "2016  1         72\n",
       "      2         77\n",
       "      3         79\n",
       "      4        109\n",
       "      5        169\n",
       "      6        201\n",
       "      7        200\n",
       "      8        333\n",
       "      9        227\n",
       "      10       142\n",
       "      11       116\n",
       "      12        62\n",
       "2017  1         41\n",
       "      2         41\n",
       "      3         36\n",
       "      4        113\n",
       "      5        185\n",
       "      6        196\n",
       "      7        313\n",
       "      8        271\n",
       "      9        141\n",
       "      10       133\n",
       "      11        77\n",
       "      12        82\n",
       "2018  1         69\n",
       "      2         58\n",
       "      3         80\n",
       "      4         93\n",
       "      5        193\n",
       "      6        218\n",
       "      7        261\n",
       "      8        248\n",
       "      9        172\n",
       "      10       109\n",
       "      11       140\n",
       "      12        69\n",
       "2019  1         49\n",
       "      2         30\n",
       "      3         51\n",
       "      4        102\n",
       "      5        196\n",
       "      6        164\n",
       "      7        253\n",
       "      8        283\n",
       "      9        196\n",
       "      10       143\n",
       "      11       169\n",
       "      12       137\n",
       "Name: passengers, dtype: int64"
      ]
     },
     "execution_count": 67,
     "metadata": {},
     "output_type": "execute_result"
    }
   ],
   "source": [
    "jnu_tke_monthly_passengers"
   ]
  },
  {
   "cell_type": "code",
   "execution_count": 68,
   "id": "cbac0253-e9d1-42e7-a317-baa5fa1dbe89",
   "metadata": {},
   "outputs": [
    {
     "data": {
      "image/png": "[encoded data removed]",
      "text/plain": [
       "<Figure size 1200x600 with 1 Axes>"
      ]
     },
     "metadata": {},
     "output_type": "display_data"
    }
   ],
   "source": [
    "# Prepare the data for plotting\n",
    "jnu_tke_monthly_passengers.index = pd.to_datetime(jnu_tke_monthly_passengers.index.map(lambda x: f\"{x[0]}-{x[1]}-01\"))\n",
    "jnu_tke_monthly_passengers = jnu_tke_monthly_passengers.sort_index()\n",
    "\n",
    "# Plot the data\n",
    "plt.figure(figsize=(12, 6))\n",
    "plt.plot(jnu_tke_monthly_passengers.index, jnu_tke_monthly_passengers.values, marker='o', linestyle='-', label='Passengers')\n",
    "plt.title('Monthly Passenger Count for JNU_TKE Market (2016-2019)')\n",
    "plt.xlabel('Time')\n",
    "plt.ylabel('Passengers')\n",
    "plt.grid(True)\n",
    "plt.legend()\n",
    "plt.xticks(rotation=45)\n",
    "plt.tight_layout()\n",
    "plt.show()"
   ]
  },
  {
   "cell_type": "code",
   "execution_count": null,
   "id": "1ad4f2d8-95a1-427a-a27f-2ebe432943a8",
   "metadata": {},
   "outputs": [],
   "source": []
  }
 ],
 "metadata": {
  "kernelspec": {
   "display_name": "Python 3 (ipykernel)",
   "language": "python",
   "name": "python3"
  },
  "language_info": {
   "codemirror_mode": {
    "name": "ipython",
    "version": 3
   },
   "file_extension": ".py",
   "mimetype": "text/x-python",
   "name": "python",
   "nbconvert_exporter": "python",
   "pygments_lexer": "ipython3",
   "version": "3.12.8"
  }
 },
 "nbformat": 4,
 "nbformat_minor": 5
}
